{
 "cells": [
  {
   "cell_type": "code",
   "execution_count": 1,
   "metadata": {},
   "outputs": [],
   "source": [
    "import numpy as np\n",
    "import pandas as pd"
   ]
  },
  {
   "cell_type": "code",
   "execution_count": 2,
   "metadata": {},
   "outputs": [
    {
     "data": {
      "text/html": [
       "<div>\n",
       "<style scoped>\n",
       "    .dataframe tbody tr th:only-of-type {\n",
       "        vertical-align: middle;\n",
       "    }\n",
       "\n",
       "    .dataframe tbody tr th {\n",
       "        vertical-align: top;\n",
       "    }\n",
       "\n",
       "    .dataframe thead th {\n",
       "        text-align: right;\n",
       "    }\n",
       "</style>\n",
       "<table border=\"1\" class=\"dataframe\">\n",
       "  <thead>\n",
       "    <tr style=\"text-align: right;\">\n",
       "      <th></th>\n",
       "      <th>Date</th>\n",
       "      <th>Sales</th>\n",
       "      <th>GDP</th>\n",
       "      <th>Unemployment</th>\n",
       "      <th>Population</th>\n",
       "      <th>Popularity</th>\n",
       "    </tr>\n",
       "  </thead>\n",
       "  <tbody>\n",
       "    <tr>\n",
       "      <th>0</th>\n",
       "      <td>13-06-2010</td>\n",
       "      <td>5422.0</td>\n",
       "      <td>1675.62</td>\n",
       "      <td>5.55%</td>\n",
       "      <td>1,24,06,13,620</td>\n",
       "      <td>21.25</td>\n",
       "    </tr>\n",
       "    <tr>\n",
       "      <th>1</th>\n",
       "      <td>14-06-2010</td>\n",
       "      <td>7047.0</td>\n",
       "      <td>1675.62</td>\n",
       "      <td>5.55%</td>\n",
       "      <td>1,24,06,13,620</td>\n",
       "      <td>21.25</td>\n",
       "    </tr>\n",
       "    <tr>\n",
       "      <th>2</th>\n",
       "      <td>15-06-2010</td>\n",
       "      <td>1572.0</td>\n",
       "      <td>1675.62</td>\n",
       "      <td>5.55%</td>\n",
       "      <td>1,24,06,13,620</td>\n",
       "      <td>21.25</td>\n",
       "    </tr>\n",
       "    <tr>\n",
       "      <th>3</th>\n",
       "      <td>16-06-2010</td>\n",
       "      <td>5657.0</td>\n",
       "      <td>1675.62</td>\n",
       "      <td>5.55%</td>\n",
       "      <td>1,24,06,13,620</td>\n",
       "      <td>21.25</td>\n",
       "    </tr>\n",
       "    <tr>\n",
       "      <th>4</th>\n",
       "      <td>17-06-2010</td>\n",
       "      <td>3668.0</td>\n",
       "      <td>1675.62</td>\n",
       "      <td>5.55%</td>\n",
       "      <td>1,24,06,13,620</td>\n",
       "      <td>21.25</td>\n",
       "    </tr>\n",
       "  </tbody>\n",
       "</table>\n",
       "</div>"
      ],
      "text/plain": [
       "         Date   Sales      GDP Unemployment      Population  Popularity\n",
       "0  13-06-2010  5422.0  1675.62        5.55%  1,24,06,13,620       21.25\n",
       "1  14-06-2010  7047.0  1675.62        5.55%  1,24,06,13,620       21.25\n",
       "2  15-06-2010  1572.0  1675.62        5.55%  1,24,06,13,620       21.25\n",
       "3  16-06-2010  5657.0  1675.62        5.55%  1,24,06,13,620       21.25\n",
       "4  17-06-2010  3668.0  1675.62        5.55%  1,24,06,13,620       21.25"
      ]
     },
     "execution_count": 2,
     "metadata": {},
     "output_type": "execute_result"
    }
   ],
   "source": [
    "df=pd.read_csv('sales.csv')\n",
    "df.head()"
   ]
  },
  {
   "cell_type": "code",
   "execution_count": 3,
   "metadata": {},
   "outputs": [
    {
     "data": {
      "text/plain": [
       "13-06-2010    1\n",
       "13-02-2018    1\n",
       "15-02-2018    1\n",
       "16-02-2018    1\n",
       "17-02-2018    1\n",
       "             ..\n",
       "25-04-2014    1\n",
       "26-04-2014    1\n",
       "27-04-2014    1\n",
       "28-04-2014    1\n",
       "30-12-2021    1\n",
       "Name: Date, Length: 4202, dtype: int64"
      ]
     },
     "execution_count": 3,
     "metadata": {},
     "output_type": "execute_result"
    }
   ],
   "source": [
    "df['Date'].value_counts()"
   ]
  },
  {
   "cell_type": "code",
   "execution_count": 4,
   "metadata": {},
   "outputs": [
    {
     "data": {
      "text/plain": [
       "1823.05    364\n",
       "1856.72    364\n",
       "2039.13    364\n",
       "2103.59    364\n",
       "2651.47    364\n",
       "2702.93    364\n",
       "2831.55    364\n",
       "3173.40    364\n",
       "1827.64    363\n",
       "2294.80    363\n",
       "2667.69    363\n",
       "1675.62    201\n",
       "Name: GDP, dtype: int64"
      ]
     },
     "execution_count": 4,
     "metadata": {},
     "output_type": "execute_result"
    }
   ],
   "source": [
    "df['GDP'].value_counts()"
   ]
  },
  {
   "cell_type": "code",
   "execution_count": 5,
   "metadata": {},
   "outputs": [
    {
     "data": {
      "text/plain": [
       "(4600, 6)"
      ]
     },
     "execution_count": 5,
     "metadata": {},
     "output_type": "execute_result"
    }
   ],
   "source": [
    "df.shape"
   ]
  },
  {
   "cell_type": "code",
   "execution_count": 6,
   "metadata": {},
   "outputs": [
    {
     "data": {
      "text/html": [
       "<div>\n",
       "<style scoped>\n",
       "    .dataframe tbody tr th:only-of-type {\n",
       "        vertical-align: middle;\n",
       "    }\n",
       "\n",
       "    .dataframe tbody tr th {\n",
       "        vertical-align: top;\n",
       "    }\n",
       "\n",
       "    .dataframe thead th {\n",
       "        text-align: right;\n",
       "    }\n",
       "</style>\n",
       "<table border=\"1\" class=\"dataframe\">\n",
       "  <thead>\n",
       "    <tr style=\"text-align: right;\">\n",
       "      <th></th>\n",
       "      <th>Date</th>\n",
       "      <th>Sales</th>\n",
       "      <th>GDP</th>\n",
       "      <th>Unemployment</th>\n",
       "      <th>Population</th>\n",
       "      <th>Popularity</th>\n",
       "    </tr>\n",
       "  </thead>\n",
       "  <tbody>\n",
       "    <tr>\n",
       "      <th>4595</th>\n",
       "      <td>NaN</td>\n",
       "      <td>NaN</td>\n",
       "      <td>NaN</td>\n",
       "      <td>NaN</td>\n",
       "      <td>NaN</td>\n",
       "      <td>NaN</td>\n",
       "    </tr>\n",
       "    <tr>\n",
       "      <th>4596</th>\n",
       "      <td>NaN</td>\n",
       "      <td>NaN</td>\n",
       "      <td>NaN</td>\n",
       "      <td>NaN</td>\n",
       "      <td>NaN</td>\n",
       "      <td>NaN</td>\n",
       "    </tr>\n",
       "    <tr>\n",
       "      <th>4597</th>\n",
       "      <td>NaN</td>\n",
       "      <td>NaN</td>\n",
       "      <td>NaN</td>\n",
       "      <td>NaN</td>\n",
       "      <td>NaN</td>\n",
       "      <td>NaN</td>\n",
       "    </tr>\n",
       "    <tr>\n",
       "      <th>4598</th>\n",
       "      <td>NaN</td>\n",
       "      <td>NaN</td>\n",
       "      <td>NaN</td>\n",
       "      <td>NaN</td>\n",
       "      <td>NaN</td>\n",
       "      <td>NaN</td>\n",
       "    </tr>\n",
       "    <tr>\n",
       "      <th>4599</th>\n",
       "      <td>NaN</td>\n",
       "      <td>NaN</td>\n",
       "      <td>NaN</td>\n",
       "      <td>NaN</td>\n",
       "      <td>NaN</td>\n",
       "      <td>NaN</td>\n",
       "    </tr>\n",
       "  </tbody>\n",
       "</table>\n",
       "</div>"
      ],
      "text/plain": [
       "     Date  Sales  GDP Unemployment Population  Popularity\n",
       "4595  NaN    NaN  NaN          NaN        NaN         NaN\n",
       "4596  NaN    NaN  NaN          NaN        NaN         NaN\n",
       "4597  NaN    NaN  NaN          NaN        NaN         NaN\n",
       "4598  NaN    NaN  NaN          NaN        NaN         NaN\n",
       "4599  NaN    NaN  NaN          NaN        NaN         NaN"
      ]
     },
     "execution_count": 6,
     "metadata": {},
     "output_type": "execute_result"
    }
   ],
   "source": [
    "df.tail()"
   ]
  },
  {
   "cell_type": "code",
   "execution_count": 7,
   "metadata": {},
   "outputs": [
    {
     "data": {
      "text/plain": [
       "Date            398\n",
       "Sales           398\n",
       "GDP             398\n",
       "Unemployment    398\n",
       "Population      398\n",
       "Popularity      398\n",
       "dtype: int64"
      ]
     },
     "execution_count": 7,
     "metadata": {},
     "output_type": "execute_result"
    }
   ],
   "source": [
    "df.isnull().sum()"
   ]
  },
  {
   "cell_type": "code",
   "execution_count": 8,
   "metadata": {},
   "outputs": [
    {
     "data": {
      "text/plain": [
       "Date            0\n",
       "Sales           0\n",
       "GDP             0\n",
       "Unemployment    0\n",
       "Population      0\n",
       "Popularity      0\n",
       "dtype: int64"
      ]
     },
     "execution_count": 8,
     "metadata": {},
     "output_type": "execute_result"
    }
   ],
   "source": [
    "df = df.dropna()\n",
    "df.isnull().sum()"
   ]
  },
  {
   "cell_type": "code",
   "execution_count": 9,
   "metadata": {},
   "outputs": [
    {
     "data": {
      "text/html": [
       "<div>\n",
       "<style scoped>\n",
       "    .dataframe tbody tr th:only-of-type {\n",
       "        vertical-align: middle;\n",
       "    }\n",
       "\n",
       "    .dataframe tbody tr th {\n",
       "        vertical-align: top;\n",
       "    }\n",
       "\n",
       "    .dataframe thead th {\n",
       "        text-align: right;\n",
       "    }\n",
       "</style>\n",
       "<table border=\"1\" class=\"dataframe\">\n",
       "  <thead>\n",
       "    <tr style=\"text-align: right;\">\n",
       "      <th></th>\n",
       "      <th>Date</th>\n",
       "      <th>GDP</th>\n",
       "      <th>Unemployment</th>\n",
       "      <th>Population</th>\n",
       "      <th>Popularity</th>\n",
       "    </tr>\n",
       "  </thead>\n",
       "  <tbody>\n",
       "    <tr>\n",
       "      <th>0</th>\n",
       "      <td>13-06-2010</td>\n",
       "      <td>1675.62</td>\n",
       "      <td>5.55%</td>\n",
       "      <td>1,24,06,13,620</td>\n",
       "      <td>21.25</td>\n",
       "    </tr>\n",
       "    <tr>\n",
       "      <th>1</th>\n",
       "      <td>14-06-2010</td>\n",
       "      <td>1675.62</td>\n",
       "      <td>5.55%</td>\n",
       "      <td>1,24,06,13,620</td>\n",
       "      <td>21.25</td>\n",
       "    </tr>\n",
       "    <tr>\n",
       "      <th>2</th>\n",
       "      <td>15-06-2010</td>\n",
       "      <td>1675.62</td>\n",
       "      <td>5.55%</td>\n",
       "      <td>1,24,06,13,620</td>\n",
       "      <td>21.25</td>\n",
       "    </tr>\n",
       "    <tr>\n",
       "      <th>3</th>\n",
       "      <td>16-06-2010</td>\n",
       "      <td>1675.62</td>\n",
       "      <td>5.55%</td>\n",
       "      <td>1,24,06,13,620</td>\n",
       "      <td>21.25</td>\n",
       "    </tr>\n",
       "    <tr>\n",
       "      <th>4</th>\n",
       "      <td>17-06-2010</td>\n",
       "      <td>1675.62</td>\n",
       "      <td>5.55%</td>\n",
       "      <td>1,24,06,13,620</td>\n",
       "      <td>21.25</td>\n",
       "    </tr>\n",
       "  </tbody>\n",
       "</table>\n",
       "</div>"
      ],
      "text/plain": [
       "         Date      GDP Unemployment      Population  Popularity\n",
       "0  13-06-2010  1675.62        5.55%  1,24,06,13,620       21.25\n",
       "1  14-06-2010  1675.62        5.55%  1,24,06,13,620       21.25\n",
       "2  15-06-2010  1675.62        5.55%  1,24,06,13,620       21.25\n",
       "3  16-06-2010  1675.62        5.55%  1,24,06,13,620       21.25\n",
       "4  17-06-2010  1675.62        5.55%  1,24,06,13,620       21.25"
      ]
     },
     "execution_count": 9,
     "metadata": {},
     "output_type": "execute_result"
    }
   ],
   "source": [
    "X=df.drop('Sales',axis='columns')\n",
    "X.head()"
   ]
  },
  {
   "cell_type": "code",
   "execution_count": 10,
   "metadata": {},
   "outputs": [
    {
     "data": {
      "text/plain": [
       "0    5422.0\n",
       "1    7047.0\n",
       "2    1572.0\n",
       "3    5657.0\n",
       "4    3668.0\n",
       "Name: Sales, dtype: float64"
      ]
     },
     "execution_count": 10,
     "metadata": {},
     "output_type": "execute_result"
    }
   ],
   "source": [
    "y=df['Sales']\n",
    "y.head()"
   ]
  },
  {
   "cell_type": "code",
   "execution_count": 11,
   "metadata": {},
   "outputs": [
    {
     "name": "stdout",
     "output_type": "stream",
     "text": [
      "<class 'pandas.core.frame.DataFrame'>\n",
      "Int64Index: 4202 entries, 0 to 4201\n",
      "Data columns (total 6 columns):\n",
      " #   Column        Non-Null Count  Dtype  \n",
      "---  ------        --------------  -----  \n",
      " 0   Date          4202 non-null   object \n",
      " 1   Sales         4202 non-null   float64\n",
      " 2   GDP           4202 non-null   float64\n",
      " 3   Unemployment  4202 non-null   object \n",
      " 4   Population    4202 non-null   object \n",
      " 5   Popularity    4202 non-null   float64\n",
      "dtypes: float64(3), object(3)\n",
      "memory usage: 229.8+ KB\n"
     ]
    }
   ],
   "source": [
    "df.info()"
   ]
  },
  {
   "cell_type": "code",
   "execution_count": 12,
   "metadata": {},
   "outputs": [
    {
     "data": {
      "text/html": [
       "<div>\n",
       "<style scoped>\n",
       "    .dataframe tbody tr th:only-of-type {\n",
       "        vertical-align: middle;\n",
       "    }\n",
       "\n",
       "    .dataframe tbody tr th {\n",
       "        vertical-align: top;\n",
       "    }\n",
       "\n",
       "    .dataframe thead th {\n",
       "        text-align: right;\n",
       "    }\n",
       "</style>\n",
       "<table border=\"1\" class=\"dataframe\">\n",
       "  <thead>\n",
       "    <tr style=\"text-align: right;\">\n",
       "      <th></th>\n",
       "      <th>Date</th>\n",
       "      <th>GDP</th>\n",
       "      <th>Unemployment</th>\n",
       "      <th>Population</th>\n",
       "      <th>Popularity</th>\n",
       "    </tr>\n",
       "  </thead>\n",
       "  <tbody>\n",
       "    <tr>\n",
       "      <th>0</th>\n",
       "      <td>13-06-2010</td>\n",
       "      <td>1675.62</td>\n",
       "      <td>5.55%</td>\n",
       "      <td>1,24,06,13,620</td>\n",
       "      <td>21.25</td>\n",
       "    </tr>\n",
       "    <tr>\n",
       "      <th>1</th>\n",
       "      <td>14-06-2010</td>\n",
       "      <td>1675.62</td>\n",
       "      <td>5.55%</td>\n",
       "      <td>1,24,06,13,620</td>\n",
       "      <td>21.25</td>\n",
       "    </tr>\n",
       "    <tr>\n",
       "      <th>2</th>\n",
       "      <td>15-06-2010</td>\n",
       "      <td>1675.62</td>\n",
       "      <td>5.55%</td>\n",
       "      <td>1,24,06,13,620</td>\n",
       "      <td>21.25</td>\n",
       "    </tr>\n",
       "    <tr>\n",
       "      <th>3</th>\n",
       "      <td>16-06-2010</td>\n",
       "      <td>1675.62</td>\n",
       "      <td>5.55%</td>\n",
       "      <td>1,24,06,13,620</td>\n",
       "      <td>21.25</td>\n",
       "    </tr>\n",
       "    <tr>\n",
       "      <th>4</th>\n",
       "      <td>17-06-2010</td>\n",
       "      <td>1675.62</td>\n",
       "      <td>5.55%</td>\n",
       "      <td>1,24,06,13,620</td>\n",
       "      <td>21.25</td>\n",
       "    </tr>\n",
       "  </tbody>\n",
       "</table>\n",
       "</div>"
      ],
      "text/plain": [
       "         Date      GDP Unemployment      Population  Popularity\n",
       "0  13-06-2010  1675.62        5.55%  1,24,06,13,620       21.25\n",
       "1  14-06-2010  1675.62        5.55%  1,24,06,13,620       21.25\n",
       "2  15-06-2010  1675.62        5.55%  1,24,06,13,620       21.25\n",
       "3  16-06-2010  1675.62        5.55%  1,24,06,13,620       21.25\n",
       "4  17-06-2010  1675.62        5.55%  1,24,06,13,620       21.25"
      ]
     },
     "execution_count": 12,
     "metadata": {},
     "output_type": "execute_result"
    }
   ],
   "source": [
    "X.head()"
   ]
  },
  {
   "cell_type": "code",
   "execution_count": 13,
   "metadata": {},
   "outputs": [
    {
     "data": {
      "text/html": [
       "<div>\n",
       "<style scoped>\n",
       "    .dataframe tbody tr th:only-of-type {\n",
       "        vertical-align: middle;\n",
       "    }\n",
       "\n",
       "    .dataframe tbody tr th {\n",
       "        vertical-align: top;\n",
       "    }\n",
       "\n",
       "    .dataframe thead th {\n",
       "        text-align: right;\n",
       "    }\n",
       "</style>\n",
       "<table border=\"1\" class=\"dataframe\">\n",
       "  <thead>\n",
       "    <tr style=\"text-align: right;\">\n",
       "      <th></th>\n",
       "      <th>Date</th>\n",
       "      <th>GDP</th>\n",
       "      <th>Unemployment</th>\n",
       "      <th>Population</th>\n",
       "      <th>Popularity</th>\n",
       "      <th>Month</th>\n",
       "      <th>Year</th>\n",
       "    </tr>\n",
       "  </thead>\n",
       "  <tbody>\n",
       "    <tr>\n",
       "      <th>0</th>\n",
       "      <td>13</td>\n",
       "      <td>1675.62</td>\n",
       "      <td>5.55%</td>\n",
       "      <td>1,24,06,13,620</td>\n",
       "      <td>21.25</td>\n",
       "      <td>06</td>\n",
       "      <td>2010</td>\n",
       "    </tr>\n",
       "    <tr>\n",
       "      <th>1</th>\n",
       "      <td>14</td>\n",
       "      <td>1675.62</td>\n",
       "      <td>5.55%</td>\n",
       "      <td>1,24,06,13,620</td>\n",
       "      <td>21.25</td>\n",
       "      <td>06</td>\n",
       "      <td>2010</td>\n",
       "    </tr>\n",
       "    <tr>\n",
       "      <th>2</th>\n",
       "      <td>15</td>\n",
       "      <td>1675.62</td>\n",
       "      <td>5.55%</td>\n",
       "      <td>1,24,06,13,620</td>\n",
       "      <td>21.25</td>\n",
       "      <td>06</td>\n",
       "      <td>2010</td>\n",
       "    </tr>\n",
       "    <tr>\n",
       "      <th>3</th>\n",
       "      <td>16</td>\n",
       "      <td>1675.62</td>\n",
       "      <td>5.55%</td>\n",
       "      <td>1,24,06,13,620</td>\n",
       "      <td>21.25</td>\n",
       "      <td>06</td>\n",
       "      <td>2010</td>\n",
       "    </tr>\n",
       "    <tr>\n",
       "      <th>4</th>\n",
       "      <td>17</td>\n",
       "      <td>1675.62</td>\n",
       "      <td>5.55%</td>\n",
       "      <td>1,24,06,13,620</td>\n",
       "      <td>21.25</td>\n",
       "      <td>06</td>\n",
       "      <td>2010</td>\n",
       "    </tr>\n",
       "  </tbody>\n",
       "</table>\n",
       "</div>"
      ],
      "text/plain": [
       "  Date      GDP Unemployment      Population  Popularity Month  Year\n",
       "0   13  1675.62        5.55%  1,24,06,13,620       21.25    06  2010\n",
       "1   14  1675.62        5.55%  1,24,06,13,620       21.25    06  2010\n",
       "2   15  1675.62        5.55%  1,24,06,13,620       21.25    06  2010\n",
       "3   16  1675.62        5.55%  1,24,06,13,620       21.25    06  2010\n",
       "4   17  1675.62        5.55%  1,24,06,13,620       21.25    06  2010"
      ]
     },
     "execution_count": 13,
     "metadata": {},
     "output_type": "execute_result"
    }
   ],
   "source": [
    "\n",
    "X[['Date', 'Month', 'Year']] = X[\"Date\"].apply(lambda x: pd.Series(str(x).split(\"-\")))\n",
    "X.head()"
   ]
  },
  {
   "cell_type": "code",
   "execution_count": 14,
   "metadata": {},
   "outputs": [
    {
     "data": {
      "text/html": [
       "<div>\n",
       "<style scoped>\n",
       "    .dataframe tbody tr th:only-of-type {\n",
       "        vertical-align: middle;\n",
       "    }\n",
       "\n",
       "    .dataframe tbody tr th {\n",
       "        vertical-align: top;\n",
       "    }\n",
       "\n",
       "    .dataframe thead th {\n",
       "        text-align: right;\n",
       "    }\n",
       "</style>\n",
       "<table border=\"1\" class=\"dataframe\">\n",
       "  <thead>\n",
       "    <tr style=\"text-align: right;\">\n",
       "      <th></th>\n",
       "      <th>Date</th>\n",
       "      <th>GDP</th>\n",
       "      <th>Unemployment</th>\n",
       "      <th>Population</th>\n",
       "      <th>Popularity</th>\n",
       "      <th>Month</th>\n",
       "      <th>Year</th>\n",
       "    </tr>\n",
       "  </thead>\n",
       "  <tbody>\n",
       "    <tr>\n",
       "      <th>0</th>\n",
       "      <td>13</td>\n",
       "      <td>1675.62</td>\n",
       "      <td>5.55%</td>\n",
       "      <td>1,24,06,13,620</td>\n",
       "      <td>21.25</td>\n",
       "      <td>6</td>\n",
       "      <td>2010</td>\n",
       "    </tr>\n",
       "    <tr>\n",
       "      <th>1</th>\n",
       "      <td>14</td>\n",
       "      <td>1675.62</td>\n",
       "      <td>5.55%</td>\n",
       "      <td>1,24,06,13,620</td>\n",
       "      <td>21.25</td>\n",
       "      <td>6</td>\n",
       "      <td>2010</td>\n",
       "    </tr>\n",
       "    <tr>\n",
       "      <th>2</th>\n",
       "      <td>15</td>\n",
       "      <td>1675.62</td>\n",
       "      <td>5.55%</td>\n",
       "      <td>1,24,06,13,620</td>\n",
       "      <td>21.25</td>\n",
       "      <td>6</td>\n",
       "      <td>2010</td>\n",
       "    </tr>\n",
       "    <tr>\n",
       "      <th>3</th>\n",
       "      <td>16</td>\n",
       "      <td>1675.62</td>\n",
       "      <td>5.55%</td>\n",
       "      <td>1,24,06,13,620</td>\n",
       "      <td>21.25</td>\n",
       "      <td>6</td>\n",
       "      <td>2010</td>\n",
       "    </tr>\n",
       "    <tr>\n",
       "      <th>4</th>\n",
       "      <td>17</td>\n",
       "      <td>1675.62</td>\n",
       "      <td>5.55%</td>\n",
       "      <td>1,24,06,13,620</td>\n",
       "      <td>21.25</td>\n",
       "      <td>6</td>\n",
       "      <td>2010</td>\n",
       "    </tr>\n",
       "  </tbody>\n",
       "</table>\n",
       "</div>"
      ],
      "text/plain": [
       "   Date      GDP Unemployment      Population  Popularity  Month  Year\n",
       "0    13  1675.62        5.55%  1,24,06,13,620       21.25      6  2010\n",
       "1    14  1675.62        5.55%  1,24,06,13,620       21.25      6  2010\n",
       "2    15  1675.62        5.55%  1,24,06,13,620       21.25      6  2010\n",
       "3    16  1675.62        5.55%  1,24,06,13,620       21.25      6  2010\n",
       "4    17  1675.62        5.55%  1,24,06,13,620       21.25      6  2010"
      ]
     },
     "execution_count": 14,
     "metadata": {},
     "output_type": "execute_result"
    }
   ],
   "source": [
    "X['Date'] = X['Date'].astype(int)\n",
    "X['Month'] = X['Month'].astype(int)\n",
    "X['Year'] = X['Year'].astype(int)\n",
    "X.head()"
   ]
  },
  {
   "cell_type": "code",
   "execution_count": 15,
   "metadata": {},
   "outputs": [
    {
     "data": {
      "text/html": [
       "<div>\n",
       "<style scoped>\n",
       "    .dataframe tbody tr th:only-of-type {\n",
       "        vertical-align: middle;\n",
       "    }\n",
       "\n",
       "    .dataframe tbody tr th {\n",
       "        vertical-align: top;\n",
       "    }\n",
       "\n",
       "    .dataframe thead th {\n",
       "        text-align: right;\n",
       "    }\n",
       "</style>\n",
       "<table border=\"1\" class=\"dataframe\">\n",
       "  <thead>\n",
       "    <tr style=\"text-align: right;\">\n",
       "      <th></th>\n",
       "      <th>Date</th>\n",
       "      <th>GDP</th>\n",
       "      <th>Unemployment</th>\n",
       "      <th>Population</th>\n",
       "      <th>Popularity</th>\n",
       "      <th>Month</th>\n",
       "      <th>Year</th>\n",
       "    </tr>\n",
       "  </thead>\n",
       "  <tbody>\n",
       "    <tr>\n",
       "      <th>0</th>\n",
       "      <td>13</td>\n",
       "      <td>1675.62</td>\n",
       "      <td>5.55</td>\n",
       "      <td>1,24,06,13,620</td>\n",
       "      <td>21.25</td>\n",
       "      <td>6</td>\n",
       "      <td>2010</td>\n",
       "    </tr>\n",
       "    <tr>\n",
       "      <th>1</th>\n",
       "      <td>14</td>\n",
       "      <td>1675.62</td>\n",
       "      <td>5.55</td>\n",
       "      <td>1,24,06,13,620</td>\n",
       "      <td>21.25</td>\n",
       "      <td>6</td>\n",
       "      <td>2010</td>\n",
       "    </tr>\n",
       "    <tr>\n",
       "      <th>2</th>\n",
       "      <td>15</td>\n",
       "      <td>1675.62</td>\n",
       "      <td>5.55</td>\n",
       "      <td>1,24,06,13,620</td>\n",
       "      <td>21.25</td>\n",
       "      <td>6</td>\n",
       "      <td>2010</td>\n",
       "    </tr>\n",
       "    <tr>\n",
       "      <th>3</th>\n",
       "      <td>16</td>\n",
       "      <td>1675.62</td>\n",
       "      <td>5.55</td>\n",
       "      <td>1,24,06,13,620</td>\n",
       "      <td>21.25</td>\n",
       "      <td>6</td>\n",
       "      <td>2010</td>\n",
       "    </tr>\n",
       "    <tr>\n",
       "      <th>4</th>\n",
       "      <td>17</td>\n",
       "      <td>1675.62</td>\n",
       "      <td>5.55</td>\n",
       "      <td>1,24,06,13,620</td>\n",
       "      <td>21.25</td>\n",
       "      <td>6</td>\n",
       "      <td>2010</td>\n",
       "    </tr>\n",
       "  </tbody>\n",
       "</table>\n",
       "</div>"
      ],
      "text/plain": [
       "   Date      GDP  Unemployment      Population  Popularity  Month  Year\n",
       "0    13  1675.62          5.55  1,24,06,13,620       21.25      6  2010\n",
       "1    14  1675.62          5.55  1,24,06,13,620       21.25      6  2010\n",
       "2    15  1675.62          5.55  1,24,06,13,620       21.25      6  2010\n",
       "3    16  1675.62          5.55  1,24,06,13,620       21.25      6  2010\n",
       "4    17  1675.62          5.55  1,24,06,13,620       21.25      6  2010"
      ]
     },
     "execution_count": 15,
     "metadata": {},
     "output_type": "execute_result"
    }
   ],
   "source": [
    "X['Unemployment'] = X['Unemployment'].str.replace('%', '')\n",
    "X['Unemployment'] = X['Unemployment'].astype(float)\n",
    "X.head()"
   ]
  },
  {
   "cell_type": "code",
   "execution_count": 16,
   "metadata": {},
   "outputs": [
    {
     "data": {
      "text/html": [
       "<div>\n",
       "<style scoped>\n",
       "    .dataframe tbody tr th:only-of-type {\n",
       "        vertical-align: middle;\n",
       "    }\n",
       "\n",
       "    .dataframe tbody tr th {\n",
       "        vertical-align: top;\n",
       "    }\n",
       "\n",
       "    .dataframe thead th {\n",
       "        text-align: right;\n",
       "    }\n",
       "</style>\n",
       "<table border=\"1\" class=\"dataframe\">\n",
       "  <thead>\n",
       "    <tr style=\"text-align: right;\">\n",
       "      <th></th>\n",
       "      <th>Date</th>\n",
       "      <th>GDP</th>\n",
       "      <th>Unemployment</th>\n",
       "      <th>Population</th>\n",
       "      <th>Popularity</th>\n",
       "      <th>Month</th>\n",
       "      <th>Year</th>\n",
       "    </tr>\n",
       "  </thead>\n",
       "  <tbody>\n",
       "    <tr>\n",
       "      <th>0</th>\n",
       "      <td>13</td>\n",
       "      <td>1675.62</td>\n",
       "      <td>5.55</td>\n",
       "      <td>1240613620</td>\n",
       "      <td>21.25</td>\n",
       "      <td>6</td>\n",
       "      <td>2010</td>\n",
       "    </tr>\n",
       "    <tr>\n",
       "      <th>1</th>\n",
       "      <td>14</td>\n",
       "      <td>1675.62</td>\n",
       "      <td>5.55</td>\n",
       "      <td>1240613620</td>\n",
       "      <td>21.25</td>\n",
       "      <td>6</td>\n",
       "      <td>2010</td>\n",
       "    </tr>\n",
       "    <tr>\n",
       "      <th>2</th>\n",
       "      <td>15</td>\n",
       "      <td>1675.62</td>\n",
       "      <td>5.55</td>\n",
       "      <td>1240613620</td>\n",
       "      <td>21.25</td>\n",
       "      <td>6</td>\n",
       "      <td>2010</td>\n",
       "    </tr>\n",
       "    <tr>\n",
       "      <th>3</th>\n",
       "      <td>16</td>\n",
       "      <td>1675.62</td>\n",
       "      <td>5.55</td>\n",
       "      <td>1240613620</td>\n",
       "      <td>21.25</td>\n",
       "      <td>6</td>\n",
       "      <td>2010</td>\n",
       "    </tr>\n",
       "    <tr>\n",
       "      <th>4</th>\n",
       "      <td>17</td>\n",
       "      <td>1675.62</td>\n",
       "      <td>5.55</td>\n",
       "      <td>1240613620</td>\n",
       "      <td>21.25</td>\n",
       "      <td>6</td>\n",
       "      <td>2010</td>\n",
       "    </tr>\n",
       "  </tbody>\n",
       "</table>\n",
       "</div>"
      ],
      "text/plain": [
       "   Date      GDP  Unemployment  Population  Popularity  Month  Year\n",
       "0    13  1675.62          5.55  1240613620       21.25      6  2010\n",
       "1    14  1675.62          5.55  1240613620       21.25      6  2010\n",
       "2    15  1675.62          5.55  1240613620       21.25      6  2010\n",
       "3    16  1675.62          5.55  1240613620       21.25      6  2010\n",
       "4    17  1675.62          5.55  1240613620       21.25      6  2010"
      ]
     },
     "execution_count": 16,
     "metadata": {},
     "output_type": "execute_result"
    }
   ],
   "source": [
    "X['Population'] = X['Population'].str.replace(',', '')\n",
    "X['Population'] = X['Population'].astype(int)\n",
    "X.head()"
   ]
  },
  {
   "cell_type": "code",
   "execution_count": 17,
   "metadata": {},
   "outputs": [],
   "source": [
    "X = X[['Date', 'Month', 'Year', 'GDP', 'Unemployment', 'Population']]"
   ]
  },
  {
   "cell_type": "code",
   "execution_count": 18,
   "metadata": {},
   "outputs": [
    {
     "data": {
      "text/html": [
       "<div>\n",
       "<style scoped>\n",
       "    .dataframe tbody tr th:only-of-type {\n",
       "        vertical-align: middle;\n",
       "    }\n",
       "\n",
       "    .dataframe tbody tr th {\n",
       "        vertical-align: top;\n",
       "    }\n",
       "\n",
       "    .dataframe thead th {\n",
       "        text-align: right;\n",
       "    }\n",
       "</style>\n",
       "<table border=\"1\" class=\"dataframe\">\n",
       "  <thead>\n",
       "    <tr style=\"text-align: right;\">\n",
       "      <th></th>\n",
       "      <th>Date</th>\n",
       "      <th>Month</th>\n",
       "      <th>Year</th>\n",
       "      <th>GDP</th>\n",
       "      <th>Unemployment</th>\n",
       "      <th>Population</th>\n",
       "    </tr>\n",
       "  </thead>\n",
       "  <tbody>\n",
       "    <tr>\n",
       "      <th>0</th>\n",
       "      <td>13</td>\n",
       "      <td>6</td>\n",
       "      <td>2010</td>\n",
       "      <td>1675.62</td>\n",
       "      <td>5.55</td>\n",
       "      <td>1240613620</td>\n",
       "    </tr>\n",
       "    <tr>\n",
       "      <th>1</th>\n",
       "      <td>14</td>\n",
       "      <td>6</td>\n",
       "      <td>2010</td>\n",
       "      <td>1675.62</td>\n",
       "      <td>5.55</td>\n",
       "      <td>1240613620</td>\n",
       "    </tr>\n",
       "    <tr>\n",
       "      <th>2</th>\n",
       "      <td>15</td>\n",
       "      <td>6</td>\n",
       "      <td>2010</td>\n",
       "      <td>1675.62</td>\n",
       "      <td>5.55</td>\n",
       "      <td>1240613620</td>\n",
       "    </tr>\n",
       "    <tr>\n",
       "      <th>3</th>\n",
       "      <td>16</td>\n",
       "      <td>6</td>\n",
       "      <td>2010</td>\n",
       "      <td>1675.62</td>\n",
       "      <td>5.55</td>\n",
       "      <td>1240613620</td>\n",
       "    </tr>\n",
       "    <tr>\n",
       "      <th>4</th>\n",
       "      <td>17</td>\n",
       "      <td>6</td>\n",
       "      <td>2010</td>\n",
       "      <td>1675.62</td>\n",
       "      <td>5.55</td>\n",
       "      <td>1240613620</td>\n",
       "    </tr>\n",
       "  </tbody>\n",
       "</table>\n",
       "</div>"
      ],
      "text/plain": [
       "   Date  Month  Year      GDP  Unemployment  Population\n",
       "0    13      6  2010  1675.62          5.55  1240613620\n",
       "1    14      6  2010  1675.62          5.55  1240613620\n",
       "2    15      6  2010  1675.62          5.55  1240613620\n",
       "3    16      6  2010  1675.62          5.55  1240613620\n",
       "4    17      6  2010  1675.62          5.55  1240613620"
      ]
     },
     "execution_count": 18,
     "metadata": {},
     "output_type": "execute_result"
    }
   ],
   "source": [
    "X.head()"
   ]
  },
  {
   "cell_type": "code",
   "execution_count": 19,
   "metadata": {},
   "outputs": [
    {
     "name": "stdout",
     "output_type": "stream",
     "text": [
      "<class 'pandas.core.frame.DataFrame'>\n",
      "Int64Index: 4202 entries, 0 to 4201\n",
      "Data columns (total 6 columns):\n",
      " #   Column        Non-Null Count  Dtype  \n",
      "---  ------        --------------  -----  \n",
      " 0   Date          4202 non-null   int32  \n",
      " 1   Month         4202 non-null   int32  \n",
      " 2   Year          4202 non-null   int32  \n",
      " 3   GDP           4202 non-null   float64\n",
      " 4   Unemployment  4202 non-null   float64\n",
      " 5   Population    4202 non-null   int32  \n",
      "dtypes: float64(2), int32(4)\n",
      "memory usage: 164.1 KB\n"
     ]
    }
   ],
   "source": [
    "X.info()"
   ]
  },
  {
   "cell_type": "code",
   "execution_count": 20,
   "metadata": {},
   "outputs": [],
   "source": [
    "from sklearn.model_selection import train_test_split\n",
    "X_train,X_test,y_train,y_test = train_test_split(X,y,test_size = 0.2, random_state = 2)"
   ]
  },
  {
   "cell_type": "code",
   "execution_count": 21,
   "metadata": {},
   "outputs": [],
   "source": [
    "from sklearn.compose import ColumnTransformer\n",
    "from sklearn.pipeline import Pipeline\n",
    "from sklearn.preprocessing import OneHotEncoder\n",
    "from sklearn.metrics import r2_score"
   ]
  },
  {
   "cell_type": "code",
   "execution_count": 22,
   "metadata": {},
   "outputs": [],
   "source": [
    "from sklearn.ensemble import RandomForestRegressor\n",
    "import numpy as np"
   ]
  },
  {
   "cell_type": "code",
   "execution_count": 23,
   "metadata": {},
   "outputs": [
    {
     "name": "stdout",
     "output_type": "stream",
     "text": [
      "R2_score -0.13322985132301524\n"
     ]
    }
   ],
   "source": [
    "\n",
    "\n",
    "\n",
    "step1 =  RandomForestRegressor(n_estimators=100,\n",
    "                               random_state=3,\n",
    "                               max_samples=0.5,\n",
    "                               max_features=0.75,\n",
    "                               max_depth=15)\n",
    "\n",
    "\n",
    "pipe = Pipeline([\n",
    "    ('step1',step1)\n",
    "])\n",
    "\n",
    "pipe.fit(X_train,y_train)\n",
    "y_pred = pipe.predict(X_test)\n",
    "print('R2_score',r2_score(y_test,y_pred))"
   ]
  },
  {
   "cell_type": "code",
   "execution_count": null,
   "metadata": {},
   "outputs": [],
   "source": []
  }
 ],
 "metadata": {
  "kernelspec": {
   "display_name": "base",
   "language": "python",
   "name": "python3"
  },
  "language_info": {
   "codemirror_mode": {
    "name": "ipython",
    "version": 3
   },
   "file_extension": ".py",
   "mimetype": "text/x-python",
   "name": "python",
   "nbconvert_exporter": "python",
   "pygments_lexer": "ipython3",
   "version": "3.9.13"
  },
  "orig_nbformat": 4
 },
 "nbformat": 4,
 "nbformat_minor": 2
}
